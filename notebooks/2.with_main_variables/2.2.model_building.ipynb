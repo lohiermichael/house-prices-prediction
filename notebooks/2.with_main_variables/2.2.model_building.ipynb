{
 "cells": [
  {
   "cell_type": "markdown",
   "metadata": {},
   "source": [
    "# Model building\n",
    "## With main variables"
   ]
  },
  {
   "cell_type": "code",
   "execution_count": 1,
   "metadata": {},
   "outputs": [],
   "source": [
    "# === System imports ===\n",
    "sys.path.append(\"../../\")\n",
    "\n",
    "# === Third-party import ===\n",
    "\n",
    "# To handle datasets\n",
    "import pandas as pd\n",
    "\n",
    "# To display only a limited number of columns of the dataframe in the whole notebook\n",
    "pd.options.display.max_rows = 20\n",
    "\n",
    "# === Local imports ===\n",
    "import utils\n",
    "\n",
    "root = utils.get_project_root()"
   ]
  },
  {
   "cell_type": "markdown",
   "metadata": {},
   "source": [
    "## Load train and test sets\n",
    "\n",
    "In the notebook [2.1.feature_engineering.ipynb](../2.1.feature_engineering.ipynb), <br>\n",
    "we have engineered the dataframes `X_train` and `X_test` having as variables those which have the most impact on the target variables `SalePrice`<br>\n",
    "We saved these two daframes. Let's import them."
   ]
  },
  {
   "cell_type": "code",
   "execution_count": 6,
   "metadata": {
    "tags": []
   },
   "outputs": [
    {
     "output_type": "stream",
     "name": "stdout",
     "text": "X_train shape: (1226, 24)\nX_test shape: (146, 24)\n"
    }
   ],
   "source": [
    "X_train = pd.read_csv(filepath_or_buffer=f'{root}/datasets/outputs/with_main_variables/x_train.csv', index_col=0)\n",
    "X_test = pd.read_csv(filepath_or_buffer=f'{root}/datasets/outputs/with_main_variables/x_test.csv', index_col=0)\n",
    "\n",
    "print(f'X_train shape: {X_train.shape}')\n",
    "print(f'X_test shape: {X_test.shape}') "
   ]
  },
  {
   "cell_type": "code",
   "execution_count": null,
   "metadata": {},
   "outputs": [],
   "source": []
  }
 ],
 "metadata": {
  "language_info": {
   "codemirror_mode": {
    "name": "ipython",
    "version": 3
   },
   "file_extension": ".py",
   "mimetype": "text/x-python",
   "name": "python",
   "nbconvert_exporter": "python",
   "pygments_lexer": "ipython3",
   "version": "3.7.6-final"
  },
  "orig_nbformat": 2,
  "kernelspec": {
   "name": "python37664bitmlcondaeb10817c9c214d868128a719c4f4db08",
   "display_name": "Python 3.7.6 64-bit ('ml': conda)"
  }
 },
 "nbformat": 4,
 "nbformat_minor": 2
}
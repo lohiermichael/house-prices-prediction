{
 "cells": [
  {
   "cell_type": "markdown",
   "metadata": {},
   "source": [
    "# Model building\n",
    "## With main variables"
   ]
  },
  {
   "cell_type": "code",
   "execution_count": 1,
   "metadata": {},
   "outputs": [],
   "source": [
    "# === System imports ===\n",
    "sys.path.append(\"../../\")\n",
    "\n",
    "# === Third-party import ===\n",
    "\n",
    "# To handle datasets\n",
    "import pandas as pd\n",
    "\n",
    "# To display only a limited number of columns of the dataframe in the whole notebook\n",
    "pd.options.display.max_rows = 20\n",
    "\n",
    "# === Local imports ===\n",
    "import utils\n",
    "\n",
    "root = utils.get_project_root()"
   ]
  },
  {
   "cell_type": "markdown",
   "metadata": {},
   "source": [
    "## Load and split train and test sets\n",
    "\n",
    "In the notebook [2.1.feature_engineering.ipynb](../2.1.feature_engineering.ipynb), <br>\n",
    "we have engineered the dataframes `X_train` and `X_test` having as variables those which have the most impact on the target variables `SalePrice`<br>\n",
    "We saved these two daframes. Let's import them."
   ]
  },
  {
   "cell_type": "code",
   "execution_count": 6,
   "metadata": {
    "tags": []
   },
   "outputs": [
    {
     "output_type": "stream",
     "name": "stdout",
     "text": "X_train shape: (1226, 24)\nX_test shape: (146, 24)\n"
    }
   ],
   "source": [
    "X_train = pd.read_csv(filepath_or_buffer=f'{root}/datasets/outputs/with_main_variables/x_train.csv', index_col=0)\n",
    "X_test = pd.read_csv(filepath_or_buffer=f'{root}/datasets/outputs/with_main_variables/x_test.csv', index_col=0)\n",
    "\n",
    "print(f'X_train shape: {X_train.shape}')\n",
    "print(f'X_test shape: {X_test.shape}') "
   ]
  },
  {
   "cell_type": "code",
   "execution_count": 7,
   "metadata": {},
   "outputs": [
    {
     "output_type": "execute_result",
     "data": {
      "text/plain": "      SalePrice  GrLivArea  GarageArea  TotalBsmtSF  OverallQual_5  \\\n930   12.211060   7.290293         610         1466              0   \n656   11.887931   6.959399         312         1053              1   \n45    12.675764   7.468513         576         1752              0   \n1348  12.278393   7.309212         514         1482              0   \n55    12.103486   7.261927         576         1425              0   \n\n      OverallQual_6  OverallQual_7  OverallQual_8  OverallQual_9  \\\n930               0              0              1              0   \n656               0              0              0              0   \n45                0              0              0              1   \n1348              0              1              0              0   \n55                1              0              0              0   \n\n      OverallQual_Rare  ...  TotRmsAbvGrd_4  TotRmsAbvGrd_5  TotRmsAbvGrd_6  \\\n930                  0  ...               0               0               0   \n656                  0  ...               0               1               0   \n45                   0  ...               0               0               1   \n1348                 0  ...               0               1               0   \n55                   0  ...               0               0               0   \n\n      TotRmsAbvGrd_7  TotRmsAbvGrd_8  TotRmsAbvGrd_9  TotRmsAbvGrd_Rare  \\\n930                1               0               0                  0   \n656                0               0               0                  0   \n45                 0               0               0                  0   \n1348               0               0               0                  0   \n55                 1               0               0                  0   \n\n      OverallQual_3  OverallQual_4  TotRmsAbvGrd_12  \n930               0              0                0  \n656               0              0                0  \n45                0              0                0  \n1348              0              0                0  \n55                0              0                0  \n\n[5 rows x 24 columns]",
      "text/html": "<div>\n<style scoped>\n    .dataframe tbody tr th:only-of-type {\n        vertical-align: middle;\n    }\n\n    .dataframe tbody tr th {\n        vertical-align: top;\n    }\n\n    .dataframe thead th {\n        text-align: right;\n    }\n</style>\n<table border=\"1\" class=\"dataframe\">\n  <thead>\n    <tr style=\"text-align: right;\">\n      <th></th>\n      <th>SalePrice</th>\n      <th>GrLivArea</th>\n      <th>GarageArea</th>\n      <th>TotalBsmtSF</th>\n      <th>OverallQual_5</th>\n      <th>OverallQual_6</th>\n      <th>OverallQual_7</th>\n      <th>OverallQual_8</th>\n      <th>OverallQual_9</th>\n      <th>OverallQual_Rare</th>\n      <th>...</th>\n      <th>TotRmsAbvGrd_4</th>\n      <th>TotRmsAbvGrd_5</th>\n      <th>TotRmsAbvGrd_6</th>\n      <th>TotRmsAbvGrd_7</th>\n      <th>TotRmsAbvGrd_8</th>\n      <th>TotRmsAbvGrd_9</th>\n      <th>TotRmsAbvGrd_Rare</th>\n      <th>OverallQual_3</th>\n      <th>OverallQual_4</th>\n      <th>TotRmsAbvGrd_12</th>\n    </tr>\n  </thead>\n  <tbody>\n    <tr>\n      <th>930</th>\n      <td>12.211060</td>\n      <td>7.290293</td>\n      <td>610</td>\n      <td>1466</td>\n      <td>0</td>\n      <td>0</td>\n      <td>0</td>\n      <td>1</td>\n      <td>0</td>\n      <td>0</td>\n      <td>...</td>\n      <td>0</td>\n      <td>0</td>\n      <td>0</td>\n      <td>1</td>\n      <td>0</td>\n      <td>0</td>\n      <td>0</td>\n      <td>0</td>\n      <td>0</td>\n      <td>0</td>\n    </tr>\n    <tr>\n      <th>656</th>\n      <td>11.887931</td>\n      <td>6.959399</td>\n      <td>312</td>\n      <td>1053</td>\n      <td>1</td>\n      <td>0</td>\n      <td>0</td>\n      <td>0</td>\n      <td>0</td>\n      <td>0</td>\n      <td>...</td>\n      <td>0</td>\n      <td>1</td>\n      <td>0</td>\n      <td>0</td>\n      <td>0</td>\n      <td>0</td>\n      <td>0</td>\n      <td>0</td>\n      <td>0</td>\n      <td>0</td>\n    </tr>\n    <tr>\n      <th>45</th>\n      <td>12.675764</td>\n      <td>7.468513</td>\n      <td>576</td>\n      <td>1752</td>\n      <td>0</td>\n      <td>0</td>\n      <td>0</td>\n      <td>0</td>\n      <td>1</td>\n      <td>0</td>\n      <td>...</td>\n      <td>0</td>\n      <td>0</td>\n      <td>1</td>\n      <td>0</td>\n      <td>0</td>\n      <td>0</td>\n      <td>0</td>\n      <td>0</td>\n      <td>0</td>\n      <td>0</td>\n    </tr>\n    <tr>\n      <th>1348</th>\n      <td>12.278393</td>\n      <td>7.309212</td>\n      <td>514</td>\n      <td>1482</td>\n      <td>0</td>\n      <td>0</td>\n      <td>1</td>\n      <td>0</td>\n      <td>0</td>\n      <td>0</td>\n      <td>...</td>\n      <td>0</td>\n      <td>1</td>\n      <td>0</td>\n      <td>0</td>\n      <td>0</td>\n      <td>0</td>\n      <td>0</td>\n      <td>0</td>\n      <td>0</td>\n      <td>0</td>\n    </tr>\n    <tr>\n      <th>55</th>\n      <td>12.103486</td>\n      <td>7.261927</td>\n      <td>576</td>\n      <td>1425</td>\n      <td>0</td>\n      <td>1</td>\n      <td>0</td>\n      <td>0</td>\n      <td>0</td>\n      <td>0</td>\n      <td>...</td>\n      <td>0</td>\n      <td>0</td>\n      <td>0</td>\n      <td>1</td>\n      <td>0</td>\n      <td>0</td>\n      <td>0</td>\n      <td>0</td>\n      <td>0</td>\n      <td>0</td>\n    </tr>\n  </tbody>\n</table>\n<p>5 rows × 24 columns</p>\n</div>"
     },
     "metadata": {},
     "execution_count": 7
    }
   ],
   "source": [
    "X_train.head()"
   ]
  },
  {
   "cell_type": "code",
   "execution_count": 8,
   "metadata": {},
   "outputs": [
    {
     "output_type": "execute_result",
     "data": {
      "text/plain": "     SalePrice  GrLivArea  GarageArea  TotalBsmtSF  OverallQual_3  \\\n529  12.209188   7.830028         484         2035              0   \n491  11.798104   7.363914         240          806              0   \n459  11.608236   7.092574         352          709              0   \n279  12.165251   7.611842         505         1160              0   \n655  11.385092   6.995766         264          525              0   \n\n     OverallQual_4  OverallQual_5  OverallQual_6  OverallQual_7  \\\n529              0              0              1              0   \n491              0              0              1              0   \n459              0              1              0              0   \n279              0              0              0              1   \n655              0              0              1              0   \n\n     OverallQual_8  ...  TotRmsAbvGrd_12  TotRmsAbvGrd_4  TotRmsAbvGrd_5  \\\n529              0  ...                0               0               0   \n491              0  ...                0               0               1   \n459              0  ...                0               0               1   \n279              0  ...                0               0               0   \n655              0  ...                0               0               0   \n\n     TotRmsAbvGrd_6  TotRmsAbvGrd_7  TotRmsAbvGrd_8  TotRmsAbvGrd_9  \\\n529               0               0               0               1   \n491               0               0               0               0   \n459               0               0               0               0   \n279               0               0               1               0   \n655               1               0               0               0   \n\n     TotRmsAbvGrd_Rare  OverallQual_Rare  TotRmsAbvGrd_3  \n529                  0                 0               0  \n491                  0                 0               0  \n459                  0                 0               0  \n279                  0                 0               0  \n655                  0                 0               0  \n\n[5 rows x 24 columns]",
      "text/html": "<div>\n<style scoped>\n    .dataframe tbody tr th:only-of-type {\n        vertical-align: middle;\n    }\n\n    .dataframe tbody tr th {\n        vertical-align: top;\n    }\n\n    .dataframe thead th {\n        text-align: right;\n    }\n</style>\n<table border=\"1\" class=\"dataframe\">\n  <thead>\n    <tr style=\"text-align: right;\">\n      <th></th>\n      <th>SalePrice</th>\n      <th>GrLivArea</th>\n      <th>GarageArea</th>\n      <th>TotalBsmtSF</th>\n      <th>OverallQual_3</th>\n      <th>OverallQual_4</th>\n      <th>OverallQual_5</th>\n      <th>OverallQual_6</th>\n      <th>OverallQual_7</th>\n      <th>OverallQual_8</th>\n      <th>...</th>\n      <th>TotRmsAbvGrd_12</th>\n      <th>TotRmsAbvGrd_4</th>\n      <th>TotRmsAbvGrd_5</th>\n      <th>TotRmsAbvGrd_6</th>\n      <th>TotRmsAbvGrd_7</th>\n      <th>TotRmsAbvGrd_8</th>\n      <th>TotRmsAbvGrd_9</th>\n      <th>TotRmsAbvGrd_Rare</th>\n      <th>OverallQual_Rare</th>\n      <th>TotRmsAbvGrd_3</th>\n    </tr>\n  </thead>\n  <tbody>\n    <tr>\n      <th>529</th>\n      <td>12.209188</td>\n      <td>7.830028</td>\n      <td>484</td>\n      <td>2035</td>\n      <td>0</td>\n      <td>0</td>\n      <td>0</td>\n      <td>1</td>\n      <td>0</td>\n      <td>0</td>\n      <td>...</td>\n      <td>0</td>\n      <td>0</td>\n      <td>0</td>\n      <td>0</td>\n      <td>0</td>\n      <td>0</td>\n      <td>1</td>\n      <td>0</td>\n      <td>0</td>\n      <td>0</td>\n    </tr>\n    <tr>\n      <th>491</th>\n      <td>11.798104</td>\n      <td>7.363914</td>\n      <td>240</td>\n      <td>806</td>\n      <td>0</td>\n      <td>0</td>\n      <td>0</td>\n      <td>1</td>\n      <td>0</td>\n      <td>0</td>\n      <td>...</td>\n      <td>0</td>\n      <td>0</td>\n      <td>1</td>\n      <td>0</td>\n      <td>0</td>\n      <td>0</td>\n      <td>0</td>\n      <td>0</td>\n      <td>0</td>\n      <td>0</td>\n    </tr>\n    <tr>\n      <th>459</th>\n      <td>11.608236</td>\n      <td>7.092574</td>\n      <td>352</td>\n      <td>709</td>\n      <td>0</td>\n      <td>0</td>\n      <td>1</td>\n      <td>0</td>\n      <td>0</td>\n      <td>0</td>\n      <td>...</td>\n      <td>0</td>\n      <td>0</td>\n      <td>1</td>\n      <td>0</td>\n      <td>0</td>\n      <td>0</td>\n      <td>0</td>\n      <td>0</td>\n      <td>0</td>\n      <td>0</td>\n    </tr>\n    <tr>\n      <th>279</th>\n      <td>12.165251</td>\n      <td>7.611842</td>\n      <td>505</td>\n      <td>1160</td>\n      <td>0</td>\n      <td>0</td>\n      <td>0</td>\n      <td>0</td>\n      <td>1</td>\n      <td>0</td>\n      <td>...</td>\n      <td>0</td>\n      <td>0</td>\n      <td>0</td>\n      <td>0</td>\n      <td>0</td>\n      <td>1</td>\n      <td>0</td>\n      <td>0</td>\n      <td>0</td>\n      <td>0</td>\n    </tr>\n    <tr>\n      <th>655</th>\n      <td>11.385092</td>\n      <td>6.995766</td>\n      <td>264</td>\n      <td>525</td>\n      <td>0</td>\n      <td>0</td>\n      <td>0</td>\n      <td>1</td>\n      <td>0</td>\n      <td>0</td>\n      <td>...</td>\n      <td>0</td>\n      <td>0</td>\n      <td>0</td>\n      <td>1</td>\n      <td>0</td>\n      <td>0</td>\n      <td>0</td>\n      <td>0</td>\n      <td>0</td>\n      <td>0</td>\n    </tr>\n  </tbody>\n</table>\n<p>5 rows × 24 columns</p>\n</div>"
     },
     "metadata": {},
     "execution_count": 8
    }
   ],
   "source": [
    "X_test.head()"
   ]
  },
  {
   "cell_type": "markdown",
   "metadata": {},
   "source": [
    "Let's remove the target `Sale_price` from `X_train` and `X_test` and store it respectively in `y_train` and `y_test`"
   ]
  },
  {
   "cell_type": "code",
   "execution_count": 9,
   "metadata": {
    "tags": []
   },
   "outputs": [
    {
     "output_type": "stream",
     "name": "stdout",
     "text": "Shapes:\nX_train:  (1226, 23)\nX_test:  (146, 23)\ny_train:  (1226,)\ny_test:  (146,)\n"
    }
   ],
   "source": [
    "target = 'SalePrice'\n",
    "\n",
    "y_train = X_train[target]\n",
    "X_train.drop(target, axis=1, inplace=True)\n",
    "\n",
    "y_test = X_test[target]\n",
    "X_test.drop(target, axis=1, inplace=True)\n",
    "\n",
    "\n",
    "print('Shapes:')\n",
    "for df_name in ['X_train', 'X_test', 'y_train', 'y_test']:\n",
    "    print(f'{df_name}:  {eval(df_name).shape}')"
   ]
  },
  {
   "cell_type": "markdown",
   "metadata": {},
   "source": [
    "## ML models\n",
    "\n",
    "Let's try different linear models.\n",
    "We'"
   ]
  },
  {
   "cell_type": "code",
   "execution_count": null,
   "metadata": {},
   "outputs": [],
   "source": []
  }
 ],
 "metadata": {
  "language_info": {
   "codemirror_mode": {
    "name": "ipython",
    "version": 3
   },
   "file_extension": ".py",
   "mimetype": "text/x-python",
   "name": "python",
   "nbconvert_exporter": "python",
   "pygments_lexer": "ipython3",
   "version": "3.7.6-final"
  },
  "orig_nbformat": 2,
  "kernelspec": {
   "name": "python37664bitmlcondaeb10817c9c214d868128a719c4f4db08",
   "display_name": "Python 3.7.6 64-bit ('ml': conda)"
  }
 },
 "nbformat": 4,
 "nbformat_minor": 2
}
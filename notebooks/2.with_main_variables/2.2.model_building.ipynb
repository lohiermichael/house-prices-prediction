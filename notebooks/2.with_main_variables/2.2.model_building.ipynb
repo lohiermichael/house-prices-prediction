{
 "cells": [
  {
   "cell_type": "markdown",
   "metadata": {},
   "source": [
    "# Model building\n",
    "## With main variables"
   ]
  },
  {
   "cell_type": "markdown",
   "metadata": {},
   "source": [
    "## Load train and test sets\n",
    "\n",
    "In the notebook [2.1.feature_engineering.ipynb](../2.1.feature_engineering.ipynb), <br>\n",
    "we have engineered the dataframes `X_train` and `X_test` having as variables those which have the most impact on the target variables `SalePrice`<br>\n",
    "We saved these two daframes. Let's import them."
   ]
  },
  {
   "cell_type": "code",
   "execution_count": null,
   "metadata": {},
   "outputs": [],
   "source": []
  }
 ],
 "metadata": {
  "language_info": {
   "codemirror_mode": {
    "name": "ipython",
    "version": 3
   },
   "file_extension": ".py",
   "mimetype": "text/x-python",
   "name": "python",
   "nbconvert_exporter": "python",
   "pygments_lexer": "ipython3",
   "version": 3
  },
  "orig_nbformat": 2
 },
 "nbformat": 4,
 "nbformat_minor": 2
}
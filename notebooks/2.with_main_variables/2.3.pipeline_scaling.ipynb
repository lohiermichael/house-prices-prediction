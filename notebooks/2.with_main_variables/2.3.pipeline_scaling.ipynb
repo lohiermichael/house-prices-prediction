{
 "cells": [
  {
   "cell_type": "markdown",
   "metadata": {},
   "source": [
    "# Pipeline scaling\n",
    "\n",
    "In this notebook, we are going to scale the different steps of our Machine Learning process by making a pipeline."
   ]
  },
  {
   "cell_type": "code",
   "execution_count": 20,
   "metadata": {},
   "outputs": [],
   "source": [
    "# === System imports ===\n",
    "sys.path.append(\"../../\")\n",
    "\n",
    "# === Third-party import ===\n",
    "import pandas as pd\n",
    "import numpy as np\n",
    "from  sklearn.pipeline import Pipeline\n",
    "from sklearn.preprocessing import MinMaxScaler\n",
    "from sklearn.linear_model import Lasso\n",
    "from sklearn.model_selection import train_test_split \n",
    "from sklearn.metrics import mean_squared_log_error\n",
    "\n",
    "# === Local imports ===\n",
    "import preprocessors as pp\n",
    "import config"
   ]
  },
  {
   "cell_type": "markdown",
   "metadata": {},
   "source": [
    "## Making the Piepeline\n",
    "\n",
    "The Pipeline steps are:\n",
    "\n",
    "1. Numerical: Remove outliers IQR\n",
    "2. Numerical: Log transform variables\n",
    "3. Categorical: Add 'Rare' label\n",
    "4. Categorical: One-hot-encoder\n",
    "5. Categorical: Add additional columns\n",
    "6. Feature Scaling\n",
    "7. Lasso model\n"
   ]
  },
  {
   "cell_type": "code",
   "execution_count": 2,
   "metadata": {},
   "outputs": [],
   "source": [
    "pipe_train_1 = Pipeline(\n",
    "    [\n",
    "        ('outliers_remover',\n",
    "            pp.OutliersRemover(variables=config.NUMERICAL_VARIABLES)),\n",
    "        ('log_transformer',\n",
    "            pp.LogTransformer(variables=config.VARIABLES_TO_LOG_TRANSFORM)),\n",
    "        ('rare_label_encoder',\n",
    "            pp.RareLabelCategoricalEncode(variables=config.CATEGORICAL_VARIABLES)),\n",
    "        ('one_hot_encoder',\n",
    "            pp.OneHotEncoder(variables=config.CATEGORICAL_VARIABLES)),\n",
    "    ]\n",
    ")\n",
    "\n",
    "pipe_test_1 = Pipeline(\n",
    "    [\n",
    "        ('log_transformer',\n",
    "            pp.LogTransformer(variables=config.VARIABLES_TO_LOG_TRANSFORM)),\n",
    "        ('rare_label_encoder',\n",
    "            pp.RareLabelCategoricalEncode(variables=config.CATEGORICAL_VARIABLES)),\n",
    "        ('one_hot_encoder',\n",
    "            pp.OneHotEncoder(variables=config.CATEGORICAL_VARIABLES)),\n",
    "    ]\n",
    ")\n",
    "\n",
    "# Log transform target\n",
    "\n",
    "pipe_2 = Pipeline(\n",
    "    [\n",
    "        ('scaler', MinMaxScaler()),\n",
    "        ('model', Lasso(alpha=0.005, random_state=0))\n",
    "    ]\n",
    ")"
   ]
  },
  {
   "cell_type": "markdown",
   "metadata": {},
   "source": [
    "## Find the result in previous notebooks\n",
    "\n",
    "To see if our pipeline works find. We are going to fit and train it on the exactly same dataset we have been working with so far."
   ]
  },
  {
   "cell_type": "markdown",
   "metadata": {},
   "source": [
    "### Load data"
   ]
  },
  {
   "cell_type": "code",
   "execution_count": 3,
   "metadata": {},
   "outputs": [
    {
     "output_type": "execute_result",
     "data": {
      "text/plain": "   Id  MSSubClass MSZoning  LotFrontage  LotArea Street Alley LotShape  \\\n0   1          60       RL         65.0     8450   Pave   NaN      Reg   \n1   2          20       RL         80.0     9600   Pave   NaN      Reg   \n2   3          60       RL         68.0    11250   Pave   NaN      IR1   \n3   4          70       RL         60.0     9550   Pave   NaN      IR1   \n4   5          60       RL         84.0    14260   Pave   NaN      IR1   \n\n  LandContour Utilities  ... PoolArea PoolQC Fence MiscFeature MiscVal MoSold  \\\n0         Lvl    AllPub  ...        0    NaN   NaN         NaN       0      2   \n1         Lvl    AllPub  ...        0    NaN   NaN         NaN       0      5   \n2         Lvl    AllPub  ...        0    NaN   NaN         NaN       0      9   \n3         Lvl    AllPub  ...        0    NaN   NaN         NaN       0      2   \n4         Lvl    AllPub  ...        0    NaN   NaN         NaN       0     12   \n\n  YrSold  SaleType  SaleCondition  SalePrice  \n0   2008        WD         Normal     208500  \n1   2007        WD         Normal     181500  \n2   2008        WD         Normal     223500  \n3   2006        WD        Abnorml     140000  \n4   2008        WD         Normal     250000  \n\n[5 rows x 81 columns]",
      "text/html": "<div>\n<style scoped>\n    .dataframe tbody tr th:only-of-type {\n        vertical-align: middle;\n    }\n\n    .dataframe tbody tr th {\n        vertical-align: top;\n    }\n\n    .dataframe thead th {\n        text-align: right;\n    }\n</style>\n<table border=\"1\" class=\"dataframe\">\n  <thead>\n    <tr style=\"text-align: right;\">\n      <th></th>\n      <th>Id</th>\n      <th>MSSubClass</th>\n      <th>MSZoning</th>\n      <th>LotFrontage</th>\n      <th>LotArea</th>\n      <th>Street</th>\n      <th>Alley</th>\n      <th>LotShape</th>\n      <th>LandContour</th>\n      <th>Utilities</th>\n      <th>...</th>\n      <th>PoolArea</th>\n      <th>PoolQC</th>\n      <th>Fence</th>\n      <th>MiscFeature</th>\n      <th>MiscVal</th>\n      <th>MoSold</th>\n      <th>YrSold</th>\n      <th>SaleType</th>\n      <th>SaleCondition</th>\n      <th>SalePrice</th>\n    </tr>\n  </thead>\n  <tbody>\n    <tr>\n      <th>0</th>\n      <td>1</td>\n      <td>60</td>\n      <td>RL</td>\n      <td>65.0</td>\n      <td>8450</td>\n      <td>Pave</td>\n      <td>NaN</td>\n      <td>Reg</td>\n      <td>Lvl</td>\n      <td>AllPub</td>\n      <td>...</td>\n      <td>0</td>\n      <td>NaN</td>\n      <td>NaN</td>\n      <td>NaN</td>\n      <td>0</td>\n      <td>2</td>\n      <td>2008</td>\n      <td>WD</td>\n      <td>Normal</td>\n      <td>208500</td>\n    </tr>\n    <tr>\n      <th>1</th>\n      <td>2</td>\n      <td>20</td>\n      <td>RL</td>\n      <td>80.0</td>\n      <td>9600</td>\n      <td>Pave</td>\n      <td>NaN</td>\n      <td>Reg</td>\n      <td>Lvl</td>\n      <td>AllPub</td>\n      <td>...</td>\n      <td>0</td>\n      <td>NaN</td>\n      <td>NaN</td>\n      <td>NaN</td>\n      <td>0</td>\n      <td>5</td>\n      <td>2007</td>\n      <td>WD</td>\n      <td>Normal</td>\n      <td>181500</td>\n    </tr>\n    <tr>\n      <th>2</th>\n      <td>3</td>\n      <td>60</td>\n      <td>RL</td>\n      <td>68.0</td>\n      <td>11250</td>\n      <td>Pave</td>\n      <td>NaN</td>\n      <td>IR1</td>\n      <td>Lvl</td>\n      <td>AllPub</td>\n      <td>...</td>\n      <td>0</td>\n      <td>NaN</td>\n      <td>NaN</td>\n      <td>NaN</td>\n      <td>0</td>\n      <td>9</td>\n      <td>2008</td>\n      <td>WD</td>\n      <td>Normal</td>\n      <td>223500</td>\n    </tr>\n    <tr>\n      <th>3</th>\n      <td>4</td>\n      <td>70</td>\n      <td>RL</td>\n      <td>60.0</td>\n      <td>9550</td>\n      <td>Pave</td>\n      <td>NaN</td>\n      <td>IR1</td>\n      <td>Lvl</td>\n      <td>AllPub</td>\n      <td>...</td>\n      <td>0</td>\n      <td>NaN</td>\n      <td>NaN</td>\n      <td>NaN</td>\n      <td>0</td>\n      <td>2</td>\n      <td>2006</td>\n      <td>WD</td>\n      <td>Abnorml</td>\n      <td>140000</td>\n    </tr>\n    <tr>\n      <th>4</th>\n      <td>5</td>\n      <td>60</td>\n      <td>RL</td>\n      <td>84.0</td>\n      <td>14260</td>\n      <td>Pave</td>\n      <td>NaN</td>\n      <td>IR1</td>\n      <td>Lvl</td>\n      <td>AllPub</td>\n      <td>...</td>\n      <td>0</td>\n      <td>NaN</td>\n      <td>NaN</td>\n      <td>NaN</td>\n      <td>0</td>\n      <td>12</td>\n      <td>2008</td>\n      <td>WD</td>\n      <td>Normal</td>\n      <td>250000</td>\n    </tr>\n  </tbody>\n</table>\n<p>5 rows × 81 columns</p>\n</div>"
     },
     "metadata": {},
     "execution_count": 3
    }
   ],
   "source": [
    "data = pd.read_csv(filepath_or_buffer=config.TRAINING_DATAFILE)\n",
    "data.head()"
   ]
  },
  {
   "cell_type": "code",
   "execution_count": 4,
   "metadata": {
    "tags": []
   },
   "outputs": [
    {
     "output_type": "stream",
     "name": "stdout",
     "text": "train: (1314, 7)\ntest: (146, 7)\n"
    }
   ],
   "source": [
    "train, test = train_test_split(data[config.MOST_RELEVANT_VARIABLES], \n",
    "                                   test_size=0.1, \n",
    "                                   random_state=0)\n",
    "for dataset in ['train', 'test']:\n",
    "    print(f'{dataset}: {eval(dataset).shape}')\n",
    "\n"
   ]
  },
  {
   "cell_type": "markdown",
   "metadata": {},
   "source": [
    "***Note:***\n",
    "\n",
    "`train` and `test` include respectively `X_train`,`y_train` and `X_test`, `y_test`"
   ]
  },
  {
   "cell_type": "markdown",
   "metadata": {},
   "source": [
    "### Trains and Predict with the pipelines"
   ]
  },
  {
   "cell_type": "code",
   "execution_count": 16,
   "metadata": {},
   "outputs": [],
   "source": [
    "def train_and_predict(train, test):\n",
    "    train = train.copy()\n",
    "    test = test.copy()\n",
    "\n",
    "    # First steps of transformation\n",
    "    train = pipe_train_1.transform(train)\n",
    "    test = pipe_test_1.transform(test)\n",
    "\n",
    "    # Column matching\n",
    "    train, test = pp.match_one_hot_encoded_vars(X_train=train, X_test=test)\n",
    "\n",
    "    # Split X and y\n",
    "    X_train = train.drop(config.TARGET, axis=1)\n",
    "    y_train = train[config.TARGET]\n",
    "\n",
    "    X_test = test.drop(config.TARGET, axis=1)\n",
    "    y_test = test[config.TARGET]\n",
    "\n",
    "    # Training\n",
    "    model = pipe_2.fit(X_train, y_train)\n",
    "\n",
    "    # Make prediction\n",
    "    y_pred = model.predict(X_test)\n",
    "\n",
    "    # Treansform exponential\n",
    "    y_pred = np.exp(y_pred)\n",
    "\n",
    "    # Transform to Pandas Series\n",
    "    y_pred = pd.Series(y_pred, index=test.index)\n",
    "\n",
    "    return y_pred\n"
   ]
  },
  {
   "cell_type": "code",
   "execution_count": 19,
   "metadata": {},
   "outputs": [],
   "source": [
    "y_pred = train_and_predict(train, test)\n",
    "y_test = test[config.TARGET]"
   ]
  },
  {
   "cell_type": "markdown",
   "metadata": {},
   "source": [
    "### Check the score"
   ]
  },
  {
   "cell_type": "code",
   "execution_count": null,
   "metadata": {},
   "outputs": [],
   "source": []
  }
 ],
 "metadata": {
  "language_info": {
   "codemirror_mode": {
    "name": "ipython",
    "version": 3
   },
   "file_extension": ".py",
   "mimetype": "text/x-python",
   "name": "python",
   "nbconvert_exporter": "python",
   "pygments_lexer": "ipython3",
   "version": "3.7.6-final"
  },
  "orig_nbformat": 2,
  "kernelspec": {
   "name": "python37664bitmlcondaeb10817c9c214d868128a719c4f4db08",
   "display_name": "Python 3.7.6 64-bit ('ml': conda)"
  }
 },
 "nbformat": 4,
 "nbformat_minor": 2
}
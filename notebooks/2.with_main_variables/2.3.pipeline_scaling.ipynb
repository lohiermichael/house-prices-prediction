{
 "cells": [
  {
   "cell_type": "markdown",
   "metadata": {},
   "source": [
    "# Pipeline scaling\n",
    "\n",
    "In this notebook, we are going to scale the different steps of our Machine Learning process by making a pipeline."
   ]
  },
  {
   "cell_type": "code",
   "execution_count": 1,
   "metadata": {},
   "outputs": [],
   "source": [
    "# === System imports ===\n",
    "\n",
    "\n",
    "# === Third-party import ===\n",
    "from  sklearn.pipeline import Pipeline\n",
    "from sklearn.preprocessing import MinMaxScaler\n",
    "\n",
    "# === Local imports ===\n",
    "import preprocessors as pp\n",
    "import config"
   ]
  },
  {
   "cell_type": "markdown",
   "metadata": {},
   "source": [
    "## Making the Piepeline\n",
    "\n",
    "The Pipeline steps are:\n",
    "\n",
    "1. Numerical: Remove outliers IQR\n",
    "2. Numerical: Log transform variables\n",
    "3. Categorical: Add 'Rare' label\n",
    "4. Categorical: One-hot-encoder\n",
    "5. Categorical: Add additional columns\n",
    "6. Feature Scaling\n",
    "7. Lasso model\n"
   ]
  },
  {
   "cell_type": "code",
   "execution_count": null,
   "metadata": {},
   "outputs": [],
   "source": [
    "pipe = Pipeline(\n",
    "    [\n",
    "        ('outliers_remover',\n",
    "            pp.OutliersRemoval(variables=config.NUMERICAL_VARIABLES)),\n",
    "        ('log_transformer',\n",
    "            pp.LogTransformer(variables=config.VARIABLES_TO_LOG_TRANSFORM)),\n",
    "        ('rare_label_encoder',\n",
    "            pp.RareLabelCategoricalEncode(variables=config.CATEGORICAL_VARIABLES)),\n",
    "        ('one_hot_encoder',\n",
    "            pp.OneHotEncoder(variables=variables=config.CATEGORICAL_VARIABLES)),\n",
    "        ('scaler', MinMaxScaler()),\n",
    "        ('model', Lasso(alpha=0.005, random_state=0))\n",
    "    ]\n",
    ")"
   ]
  }
 ],
 "metadata": {
  "language_info": {
   "codemirror_mode": {
    "name": "ipython",
    "version": 3
   },
   "file_extension": ".py",
   "mimetype": "text/x-python",
   "name": "python",
   "nbconvert_exporter": "python",
   "pygments_lexer": "ipython3",
   "version": "3.7.6-final"
  },
  "orig_nbformat": 2,
  "kernelspec": {
   "name": "python37664bitmlcondaeb10817c9c214d868128a719c4f4db08",
   "display_name": "Python 3.7.6 64-bit ('ml': conda)"
  }
 },
 "nbformat": 4,
 "nbformat_minor": 2
}
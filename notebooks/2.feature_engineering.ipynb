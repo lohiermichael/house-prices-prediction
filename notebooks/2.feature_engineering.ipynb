{
 "cells": [
  {
   "cell_type": "markdown",
   "metadata": {},
   "source": [
    "# Feature engineering"
   ]
  },
  {
   "cell_type": "code",
   "execution_count": 1,
   "metadata": {},
   "outputs": [],
   "source": [
    "# System imports\n",
    "import csv\n",
    "\n",
    "\n",
    "# To handle datasets\n",
    "import pandas as pd\n",
    "import numpy as np"
   ]
  },
  {
   "cell_type": "markdown",
   "metadata": {},
   "source": [
    "## Load data\n",
    "\n",
    "- Import the most relevant variables\n",
    "- Import the dataset"
   ]
  },
  {
   "cell_type": "code",
   "execution_count": 5,
   "metadata": {},
   "outputs": [
    {
     "output_type": "execute_result",
     "data": {
      "text/plain": "['SalePrice',\n 'OverallQual',\n 'GrLivArea',\n 'GarageArea',\n 'TotalBsmtSF',\n 'FullBath',\n 'TotRmsAbvGrd',\n 'YearBuilt']"
     },
     "metadata": {},
     "execution_count": 5
    }
   ],
   "source": [
    "with open('../datasets/outputs/most_relevant_variables.csv', newline='') as f:\n",
    "    reader = csv.reader(f)\n",
    "    most_relevant_variables = list(reader)[0]\n",
    "\n",
    "most_relevant_variables"
   ]
  },
  {
   "cell_type": "code",
   "execution_count": 11,
   "metadata": {},
   "outputs": [],
   "source": [
    "data = pd.read_csv(filepath_or_buffer='../datasets/inputs/train.csv')\n"
   ]
  },
  {
   "cell_type": "markdown",
   "metadata": {},
   "source": [
    "In this notebook, we are going to focus only on the most relevant varialbes."
   ]
  },
  {
   "cell_type": "code",
   "execution_count": 10,
   "metadata": {},
   "outputs": [
    {
     "output_type": "execute_result",
     "data": {
      "text/plain": "   SalePrice  OverallQual  GrLivArea  GarageArea  TotalBsmtSF  FullBath  \\\n0     208500            7       1710         548          856         2   \n1     181500            6       1262         460         1262         2   \n2     223500            7       1786         608          920         2   \n3     140000            7       1717         642          756         1   \n4     250000            8       2198         836         1145         2   \n\n   TotRmsAbvGrd  YearBuilt  \n0             8       2003  \n1             6       1976  \n2             6       2001  \n3             7       1915  \n4             9       2000  ",
      "text/html": "<div>\n<style scoped>\n    .dataframe tbody tr th:only-of-type {\n        vertical-align: middle;\n    }\n\n    .dataframe tbody tr th {\n        vertical-align: top;\n    }\n\n    .dataframe thead th {\n        text-align: right;\n    }\n</style>\n<table border=\"1\" class=\"dataframe\">\n  <thead>\n    <tr style=\"text-align: right;\">\n      <th></th>\n      <th>SalePrice</th>\n      <th>OverallQual</th>\n      <th>GrLivArea</th>\n      <th>GarageArea</th>\n      <th>TotalBsmtSF</th>\n      <th>FullBath</th>\n      <th>TotRmsAbvGrd</th>\n      <th>YearBuilt</th>\n    </tr>\n  </thead>\n  <tbody>\n    <tr>\n      <th>0</th>\n      <td>208500</td>\n      <td>7</td>\n      <td>1710</td>\n      <td>548</td>\n      <td>856</td>\n      <td>2</td>\n      <td>8</td>\n      <td>2003</td>\n    </tr>\n    <tr>\n      <th>1</th>\n      <td>181500</td>\n      <td>6</td>\n      <td>1262</td>\n      <td>460</td>\n      <td>1262</td>\n      <td>2</td>\n      <td>6</td>\n      <td>1976</td>\n    </tr>\n    <tr>\n      <th>2</th>\n      <td>223500</td>\n      <td>7</td>\n      <td>1786</td>\n      <td>608</td>\n      <td>920</td>\n      <td>2</td>\n      <td>6</td>\n      <td>2001</td>\n    </tr>\n    <tr>\n      <th>3</th>\n      <td>140000</td>\n      <td>7</td>\n      <td>1717</td>\n      <td>642</td>\n      <td>756</td>\n      <td>1</td>\n      <td>7</td>\n      <td>1915</td>\n    </tr>\n    <tr>\n      <th>4</th>\n      <td>250000</td>\n      <td>8</td>\n      <td>2198</td>\n      <td>836</td>\n      <td>1145</td>\n      <td>2</td>\n      <td>9</td>\n      <td>2000</td>\n    </tr>\n  </tbody>\n</table>\n</div>"
     },
     "metadata": {},
     "execution_count": 10
    }
   ],
   "source": [
    "target = 'SalePrice'\n",
    "data = data[most_relevant_variables]\n",
    "data.head()"
   ]
  },
  {
   "cell_type": "code",
   "execution_count": 13,
   "metadata": {
    "tags": []
   },
   "outputs": [
    {
     "output_type": "execute_result",
     "data": {
      "text/plain": "(1460, 81)"
     },
     "metadata": {},
     "execution_count": 13
    }
   ],
   "source": [
    "data.shape"
   ]
  },
  {
   "cell_type": "code",
   "execution_count": null,
   "metadata": {},
   "outputs": [],
   "source": []
  }
 ],
 "metadata": {
  "language_info": {
   "codemirror_mode": {
    "name": "ipython",
    "version": 3
   },
   "file_extension": ".py",
   "mimetype": "text/x-python",
   "name": "python",
   "nbconvert_exporter": "python",
   "pygments_lexer": "ipython3",
   "version": "3.7.6-final"
  },
  "orig_nbformat": 2,
  "kernelspec": {
   "name": "python37664bitmlcondaeb10817c9c214d868128a719c4f4db08",
   "display_name": "Python 3.7.6 64-bit ('ml': conda)"
  }
 },
 "nbformat": 4,
 "nbformat_minor": 2
}